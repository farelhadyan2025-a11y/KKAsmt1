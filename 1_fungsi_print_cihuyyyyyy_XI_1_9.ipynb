{
  "nbformat": 4,
  "nbformat_minor": 0,
  "metadata": {
    "colab": {
      "provenance": [],
      "toc_visible": true,
      "authorship_tag": "ABX9TyNj8yGvrhutMYLTnvI9LjYD",
      "include_colab_link": true
    },
    "kernelspec": {
      "name": "python3",
      "display_name": "Python 3"
    },
    "language_info": {
      "name": "python"
    }
  },
  "cells": [
    {
      "cell_type": "markdown",
      "metadata": {
        "id": "view-in-github",
        "colab_type": "text"
      },
      "source": [
        "<a href=\"https://colab.research.google.com/github/farelhadyan2025-a11y/KKAsmt1/blob/main/1_fungsi_print_cihuyyyyyy_XI_1_9.ipynb\" target=\"_parent\"><img src=\"https://colab.research.google.com/assets/colab-badge.svg\" alt=\"Open In Colab\"/></a>"
      ]
    },
    {
      "cell_type": "markdown",
      "source": [
        "#menampil kan teks bebas"
      ],
      "metadata": {
        "id": "i-8MtzjM-j13"
      }
    },
    {
      "cell_type": "code",
      "source": [
        "print(\"helo world\")"
      ],
      "metadata": {
        "colab": {
          "base_uri": "https://localhost:8080/"
        },
        "id": "UA9OcpzL-oYx",
        "outputId": "d996be67-aef0-47e7-cbfd-bc7be0a18e7c"
      },
      "execution_count": null,
      "outputs": [
        {
          "output_type": "stream",
          "name": "stdout",
          "text": [
            "helo world\n"
          ]
        }
      ]
    },
    {
      "cell_type": "code",
      "source": [
        "print(\"selamat datang di python\")"
      ],
      "metadata": {
        "colab": {
          "base_uri": "https://localhost:8080/"
        },
        "id": "p0zzeJw-_ACF",
        "outputId": "3a97d58b-1c76-4f2a-99ce-8152b0feb61d"
      },
      "execution_count": null,
      "outputs": [
        {
          "output_type": "stream",
          "name": "stdout",
          "text": [
            "selamat datang di python\n"
          ]
        }
      ]
    },
    {
      "cell_type": "code",
      "source": [
        "Nama = \"Farel hadyan habib\"\n",
        "Usia = 16\n",
        "Tinggi = 176\n",
        "print(f\"{Nama} {Usia} {Tinggi}\")"
      ],
      "metadata": {
        "colab": {
          "base_uri": "https://localhost:8080/"
        },
        "id": "aIGi0daPKITF",
        "outputId": "81b0f93b-4300-49f6-badc-29b00d1e250e"
      },
      "execution_count": null,
      "outputs": [
        {
          "output_type": "stream",
          "name": "stdout",
          "text": [
            "Farel hadyan habib 16 176\n"
          ]
        }
      ]
    },
    {
      "cell_type": "code",
      "source": [
        "umur = 16\n",
        "print(f\"umur gwejh {umur} tahun\")"
      ],
      "metadata": {
        "colab": {
          "base_uri": "https://localhost:8080/"
        },
        "id": "FZHCUI0YLaJ4",
        "outputId": "a43ed556-dc83-4ade-bf92-313b04160fea"
      },
      "execution_count": null,
      "outputs": [
        {
          "output_type": "stream",
          "name": "stdout",
          "text": [
            "umur gwejh 16 tahun\n"
          ]
        }
      ]
    },
    {
      "cell_type": "markdown",
      "source": [
        "#menampilkan variabel"
      ],
      "metadata": {
        "id": "ejbz2TG9_HWV"
      }
    },
    {
      "cell_type": "code",
      "source": [
        "BB = 76\n",
        "TB = 176\n",
        "print(f\"{BB} {TB}\")"
      ],
      "metadata": {
        "colab": {
          "base_uri": "https://localhost:8080/"
        },
        "id": "nyT9c66E_OL6",
        "outputId": "31375f08-0b3e-44bd-d774-f86d8f387f50"
      },
      "execution_count": null,
      "outputs": [
        {
          "output_type": "stream",
          "name": "stdout",
          "text": [
            "76 176\n"
          ]
        }
      ]
    },
    {
      "cell_type": "markdown",
      "source": [
        "#Escape character"
      ],
      "metadata": {
        "id": "p9AUGreMCsVM"
      }
    },
    {
      "cell_type": "code",
      "source": [
        "print ('Tukiman berkata, \"Davin anak Hartoyo\"')"
      ],
      "metadata": {
        "colab": {
          "base_uri": "https://localhost:8080/"
        },
        "id": "iDk4TjBIC5Gz",
        "outputId": "00a55871-b544-4b93-f1e1-cc6f826c7ec2"
      },
      "execution_count": null,
      "outputs": [
        {
          "output_type": "stream",
          "name": "stdout",
          "text": [
            "Tukiman berkata, \"Davin anak Hartoyo\"\n"
          ]
        }
      ]
    },
    {
      "cell_type": "code",
      "source": [
        "print ('video menjang 30 detik ada di')"
      ],
      "metadata": {
        "colab": {
          "base_uri": "https://localhost:8080/"
        },
        "id": "iqaSMLIjDZDH",
        "outputId": "00a75f3a-2606-466f-c02c-1d6774e83245"
      },
      "execution_count": null,
      "outputs": [
        {
          "output_type": "stream",
          "name": "stdout",
          "text": [
            "video menjang 30 detik ada di\n"
          ]
        }
      ]
    },
    {
      "cell_type": "code",
      "source": [
        "print (\"ja'far Shodiq\")"
      ],
      "metadata": {
        "colab": {
          "base_uri": "https://localhost:8080/"
        },
        "id": "gMiG1CFqDrct",
        "outputId": "cc5d98d1-f7d8-47bb-f0d3-25e58588d5c3"
      },
      "execution_count": null,
      "outputs": [
        {
          "output_type": "stream",
          "name": "stdout",
          "text": [
            "ja'far Shodiq\n"
          ]
        }
      ]
    },
    {
      "cell_type": "code",
      "source": [
        "print ('Ja\\'far Shodiq')"
      ],
      "metadata": {
        "colab": {
          "base_uri": "https://localhost:8080/"
        },
        "id": "V17kpUUAD1Jw",
        "outputId": "74d697da-8720-4f15-b837-217023cf3fa7"
      },
      "execution_count": null,
      "outputs": [
        {
          "output_type": "stream",
          "name": "stdout",
          "text": [
            "Ja'far Shodiq\n"
          ]
        }
      ]
    },
    {
      "cell_type": "code",
      "source": [
        "print (\"Tukiman berkata, \\\"Bobon anak Hendra.\\\"\")"
      ],
      "metadata": {
        "colab": {
          "base_uri": "https://localhost:8080/"
        },
        "id": "sWTXC1JeEFnP",
        "outputId": "0bc01f7b-0236-470f-8b7f-fa69ef777ce6"
      },
      "execution_count": null,
      "outputs": [
        {
          "output_type": "stream",
          "name": "stdout",
          "text": [
            "Tukiman berkata, \"Bobon anak Hendra.\"\n"
          ]
        }
      ]
    },
    {
      "cell_type": "markdown",
      "source": [
        "#Parameter fungsi print"
      ],
      "metadata": {
        "id": "tl-Im0TQGriV"
      }
    },
    {
      "cell_type": "code",
      "source": [
        "tahun = 2008\n",
        "bulan =\"Desember\"\n",
        "tanggal = 10\n",
        "print(tanggal , end=\" \")\n",
        "print(bulan , end=\" \")\n",
        "print(tahun)"
      ],
      "metadata": {
        "colab": {
          "base_uri": "https://localhost:8080/"
        },
        "id": "ggNSwYvLGw3A",
        "outputId": "a1953d7c-cda3-4006-c223-762b9442441f"
      },
      "execution_count": null,
      "outputs": [
        {
          "output_type": "stream",
          "name": "stdout",
          "text": [
            "10 Desember 2008\n"
          ]
        }
      ]
    },
    {
      "cell_type": "code",
      "source": [
        "tahun = 2008\n",
        "bulan =\"Desember\"\n",
        "tanggal = 10\n",
        "print(tanggal , bulan , tahun )"
      ],
      "metadata": {
        "colab": {
          "base_uri": "https://localhost:8080/"
        },
        "id": "5nV7frokHsXb",
        "outputId": "d4a5bd29-1a74-4247-caeb-9d9ae8315ed5"
      },
      "execution_count": null,
      "outputs": [
        {
          "output_type": "stream",
          "name": "stdout",
          "text": [
            "10 Desember 2008\n"
          ]
        }
      ]
    },
    {
      "cell_type": "code",
      "source": [
        "tahun = 2008\n",
        "bulan =\"Desember\"\n",
        "tanggal = 10\n",
        "print(tanggal , bulan , tahun, sep=\"/\")"
      ],
      "metadata": {
        "colab": {
          "base_uri": "https://localhost:8080/"
        },
        "id": "o4H9TDKhIJFp",
        "outputId": "0f9e2096-771a-4caa-82aa-b7f625372a02"
      },
      "execution_count": null,
      "outputs": [
        {
          "output_type": "stream",
          "name": "stdout",
          "text": [
            "10/Desember/2008\n"
          ]
        }
      ]
    },
    {
      "cell_type": "code",
      "source": [
        "print(\"Bu Shinta berkata, \\\"berikut adalah judul pelajaran hari Senin Selasa Rabu silahkan di simpan di laptop masing masing di folder local disk D:\\\\Jadwal Pelajaran \\\\Kelas XI Semester 1 \")"
      ],
      "metadata": {
        "colab": {
          "base_uri": "https://localhost:8080/"
        },
        "id": "Ln_eVoTgL7Kv",
        "outputId": "f5ba67ed-7260-4bff-d7b6-7c9279685268"
      },
      "execution_count": null,
      "outputs": [
        {
          "output_type": "stream",
          "name": "stdout",
          "text": [
            "Bu Shinta berkata, \"berikut adalah judul pelajaran hari Senin Selasa Rabu silahkan di simpan di laptop masing masing di folder local disk D:\\Jadwal Pelajaran \\Kelas XI Semester 1 \n"
          ]
        }
      ]
    },
    {
      "cell_type": "code",
      "source": [
        "print(\"Jadwal pelajaran mingguan\")\n",
        "print(\"=========================\")\n",
        "print(\"jam \\tSenin       \\tSelasa   \\tRabu\")\n",
        "print(\"jam1 \\tmatematika \\tbahasa   \\tinformatika\")\n",
        "print(\"jam2 \\tbahasa ing \\tsejarah  \\tMa'rifatul\")\n",
        "print(\"jam3 \\tinformatika \\tOlga    \\tBiologi\")"
      ],
      "metadata": {
        "colab": {
          "base_uri": "https://localhost:8080/"
        },
        "id": "-0B1-4CxNr06",
        "outputId": "30c6e75d-6237-45c9-d57d-fb33a3fe232c"
      },
      "execution_count": null,
      "outputs": [
        {
          "output_type": "stream",
          "name": "stdout",
          "text": [
            "Jadwal pelajaran mingguan\n",
            "=========================\n",
            "jam \tSenin       \tSelasa   \tRabu\n",
            "jam1 \tmatematika \tbahasa   \tinformatika\n",
            "jam2 \tbahasa ing \tsejarah  \tMa'rifatul\n",
            "jam3 \tinformatika \tOlga    \tBiologi\n"
          ]
        }
      ]
    },
    {
      "cell_type": "markdown",
      "source": [
        "#parameter fungsi"
      ],
      "metadata": {
        "id": "33E7pzf7Jm0T"
      }
    },
    {
      "cell_type": "code",
      "source": [
        "nama_siswa_1= \"favian\"\n",
        "nama_siswa_2= \"naufal\"\n",
        "nama_siswa_3= \"Humaira\"\n",
        "print(nama_siswa_1, nama_siswa_2,nama_siswa_3)"
      ],
      "metadata": {
        "colab": {
          "base_uri": "https://localhost:8080/"
        },
        "id": "2bkVSxoRFKGO",
        "outputId": "4eb2bb49-3874-4107-f44f-560d14a4d799"
      },
      "execution_count": null,
      "outputs": [
        {
          "output_type": "stream",
          "name": "stdout",
          "text": [
            "favian naufal Humaira\n"
          ]
        }
      ]
    },
    {
      "cell_type": "code",
      "source": [
        "nama_siswa_1= \"favian\"\n",
        "nama_siswa_2= \"naufal\"\n",
        "nama_siswa_3= \"humaira\"\n",
        "print(nama_siswa_2,nama_siswa_1,nama_siswa_3,nama_siswa_1, sep=\"~\")"
      ],
      "metadata": {
        "id": "yY5J6AkpF_Yk",
        "colab": {
          "base_uri": "https://localhost:8080/"
        },
        "outputId": "c8f974bd-f485-486e-9349-5c812e2a312d"
      },
      "execution_count": null,
      "outputs": [
        {
          "output_type": "stream",
          "name": "stdout",
          "text": [
            "naufal~favian~humaira~favian\n"
          ]
        }
      ]
    },
    {
      "cell_type": "code",
      "source": [
        "print(nama_siswa_2, end=\"~\")\n",
        "print(nama_siswa_1)\n",
        "print(nama_siswa_3, end=\"~\")\n",
        "print(nama_siswa_1)"
      ],
      "metadata": {
        "colab": {
          "base_uri": "https://localhost:8080/"
        },
        "id": "-9AOrMYNG871",
        "outputId": "605ea0fd-fd4a-4e20-99d2-677c3a24f73a"
      },
      "execution_count": null,
      "outputs": [
        {
          "output_type": "stream",
          "name": "stdout",
          "text": [
            "naufal~favian\n",
            "humaira~favian\n"
          ]
        }
      ]
    }
  ]
}